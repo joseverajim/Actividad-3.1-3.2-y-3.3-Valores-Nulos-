{
  "nbformat": 4,
  "nbformat_minor": 0,
  "metadata": {
    "colab": {
      "provenance": [],
      "authorship_tag": "ABX9TyOL9cbbBk7NExKSWVf61RdI",
      "include_colab_link": true
    },
    "kernelspec": {
      "name": "python3",
      "display_name": "Python 3"
    },
    "language_info": {
      "name": "python"
    }
  },
  "cells": [
    {
      "cell_type": "markdown",
      "metadata": {
        "id": "view-in-github",
        "colab_type": "text"
      },
      "source": [
        "<a href=\"https://colab.research.google.com/github/joseverajim/Actividad-3.1-3.2-y-3.3-Valores-Nulos-/blob/main/Actividad3.2/Josevera/Actividad_3_2_2023.ipynb\" target=\"_parent\"><img src=\"https://colab.research.google.com/assets/colab-badge.svg\" alt=\"Open In Colab\"/></a>"
      ]
    },
    {
      "cell_type": "code",
      "execution_count": 1,
      "metadata": {
        "id": "UK5iB5hv20O0"
      },
      "outputs": [],
      "source": [
        "import pandas as pd\n",
        "import numpy as np #\n",
        "import re\n",
        "\n",
        "# 1) Cargar el archivo Excel y la hoja 2023\n",
        "file_path = \"Gastos y costos 20-23.xlsx\"   # Asegúrate que esté en la misma carpeta\n",
        "df2023 = pd.read_excel(file_path, sheet_name=\"2023\", header=3)"
      ]
    },
    {
      "cell_type": "code",
      "source": [
        "#Revisar columnas del dataframe\n",
        "df2023.info()"
      ],
      "metadata": {
        "colab": {
          "base_uri": "https://localhost:8080/"
        },
        "id": "c3Nn7PP0EPwi",
        "outputId": "ad58fa48-bce7-41d8-fcf2-d53c58e8b716"
      },
      "execution_count": 3,
      "outputs": [
        {
          "output_type": "stream",
          "name": "stdout",
          "text": [
            "<class 'pandas.core.frame.DataFrame'>\n",
            "RangeIndex: 397 entries, 0 to 396\n",
            "Data columns (total 20 columns):\n",
            " #   Column       Non-Null Count  Dtype         \n",
            "---  ------       --------------  -----         \n",
            " 0   Fecha        397 non-null    datetime64[ns]\n",
            " 1   Folio        384 non-null    object        \n",
            " 2   UUID         397 non-null    object        \n",
            " 3   RFC          397 non-null    object        \n",
            " 4   Proveedor    397 non-null    object        \n",
            " 5   TIPO GASTO   389 non-null    object        \n",
            " 6   Descripción  397 non-null    object        \n",
            " 7   MP           326 non-null    object        \n",
            " 8   FP           326 non-null    float64       \n",
            " 9   TC           397 non-null    float64       \n",
            " 10  Importe      397 non-null    float64       \n",
            " 11  IVA          397 non-null    float64       \n",
            " 12  RET ISR      397 non-null    float64       \n",
            " 13  RET IVA      397 non-null    float64       \n",
            " 14  Otros        0 non-null      float64       \n",
            " 15  TOTAL MX     397 non-null    float64       \n",
            " 16  TOTAL SAT    397 non-null    float64       \n",
            " 17  Tipo         397 non-null    object        \n",
            " 18  Status       397 non-null    object        \n",
            " 19  Poliza       282 non-null    object        \n",
            "dtypes: datetime64[ns](1), float64(9), object(10)\n",
            "memory usage: 62.2+ KB\n"
          ]
        }
      ]
    },
    {
      "cell_type": "code",
      "source": [
        "#Revisar cuántos vacíos hay por columna\n",
        "print(df2023.isnull().sum())"
      ],
      "metadata": {
        "colab": {
          "base_uri": "https://localhost:8080/"
        },
        "id": "AkhAwYRshDP6",
        "outputId": "c0ccbca5-c8ab-49da-f23c-6e219b11fd5c"
      },
      "execution_count": 5,
      "outputs": [
        {
          "output_type": "stream",
          "name": "stdout",
          "text": [
            "Fecha            0\n",
            "Folio           13\n",
            "UUID             0\n",
            "RFC              0\n",
            "Proveedor        0\n",
            "TIPO GASTO       8\n",
            "Descripción      0\n",
            "MP              71\n",
            "FP              71\n",
            "TC               0\n",
            "Importe          0\n",
            "IVA              0\n",
            "RET ISR          0\n",
            "RET IVA          0\n",
            "Otros          397\n",
            "TOTAL MX         0\n",
            "TOTAL SAT        0\n",
            "Tipo             0\n",
            "Status           0\n",
            "Poliza         115\n",
            "dtype: int64\n"
          ]
        }
      ]
    },
    {
      "cell_type": "code",
      "source": [
        "# Revisar qué pasa con los registros que tienen Folio nulo\n",
        "print(df2023[df2023[\"Folio\"].isnull()].head(20))"
      ],
      "metadata": {
        "colab": {
          "base_uri": "https://localhost:8080/"
        },
        "id": "xpIXrGEQGI4M",
        "outputId": "934c5abf-2fb5-4407-bd8f-ddfe0f30278b"
      },
      "execution_count": 6,
      "outputs": [
        {
          "output_type": "stream",
          "name": "stdout",
          "text": [
            "         Fecha Folio                                  UUID            RFC  \\\n",
            "17  2023-01-01   NaN  8BCDE3BB-6B66-4EB9-9E68-73622875994F   TME840315KT6   \n",
            "90  2023-01-01   NaN  B9943156-B044-4FC9-BA4F-7E3EDE49AF12  SOMA690808RT6   \n",
            "93  2023-01-01   NaN  30B89A77-37E1-4AC8-996B-8F8B303E7A96  LAFC670511E51   \n",
            "125 2023-01-01   NaN  14F135F6-1469-493D-938C-1D536747FF65   NFM0307091L9   \n",
            "191 2023-01-01   NaN  03A1E420-0D87-4DBA-818B-EDEF6D7A1E65   TME840315KT6   \n",
            "244 2023-02-01   NaN  E8E20C44-7C1E-4824-87F2-CEE040A0FFD8  SAHM881103BR1   \n",
            "257 2023-02-01   NaN  8419C591-AE98-44D1-9298-7362287591E7   TME840315KT6   \n",
            "262 2023-02-01   NaN  B2301ACC-DC39-4F46-BBB3-C59C7501D356  SAAJ7708108H7   \n",
            "327 2023-02-01   NaN  91223FBB-1CD9-41EC-B0BA-A9D7097D1378  SOMA690808RT6   \n",
            "338 2023-02-01   NaN  643862D4-D79D-4B17-A31F-BE73C6396A87   NFM0307091L9   \n",
            "343 2023-02-01   NaN  F943E10C-1C49-4DAE-B911-4EF2CE95FB45  LAFC670511E51   \n",
            "355 2023-02-01   NaN  68626F73-33DF-41B3-AC86-73622875B6C7   TME840315KT6   \n",
            "383 2023-02-01   NaN  AAA17260-1175-4DAF-90C4-1ACC2FCBEDCD  CETA880713JV8   \n",
            "\n",
            "                              Proveedor    TIPO GASTO  \\\n",
            "17   TELEFONOS DE MEXICO S.A.B. DE C.V.      TELEFONO   \n",
            "90       ALEJANDRO ANTONIO SORIA MOLINA      COMPRAS    \n",
            "93                 CARLOS LASTRA FALLAS  CAPACITACION   \n",
            "125                   NR FINANCE MEXICO      CREDITO    \n",
            "191  TELEFONOS DE MEXICO S.A.B. DE C.V.      TELEFONO   \n",
            "244           MARTIN SANDOVAL HERNANDEZ       COMPRAS   \n",
            "257  TELEFONOS DE MEXICO S.A.B. DE C.V.      TELEFONO   \n",
            "262        JOSE JUAN SANTIAGO ALCANTARA      COMPRAS    \n",
            "327      ALEJANDRO ANTONIO SORIA MOLINA      COMPRAS    \n",
            "338                   NR FINANCE MEXICO      CREDITO    \n",
            "343                CARLOS LASTRA FALLAS  CAPACITACION   \n",
            "355  TELEFONOS DE MEXICO S.A.B. DE C.V.      TELEFONO   \n",
            "383     ANGEL ENRIQUE CERVANTES TAVAREZ           NaN   \n",
            "\n",
            "                                        Descripción   MP    FP   TC   Importe  \\\n",
            "17                              SUSCRIPCION NETFLIX  PPD  99.0  1.0   2623.03   \n",
            "90                  COACHING CORPORATIVO ENERO 2023  PPD  99.0  1.0  10000.00   \n",
            "93                 INTEGRACION DE EQUIPO DE TRABAJO  PUE   3.0  1.0   3750.00   \n",
            "125                       Interes de Financiamiento  PUE   3.0  1.0   1690.61   \n",
            "191                                            Pago  NaN   NaN  1.0      0.00   \n",
            "244                                            Pago  NaN   NaN  1.0      0.00   \n",
            "257                             SUSCRIPCION NETFLIX  PPD  99.0  1.0   2505.55   \n",
            "262  TERMOSTATO KSD302 200C 16A NORMALMENTE CERRADO  PUE   1.0  1.0    187.93   \n",
            "327                   COACHING CORPORATIVO FEB 2023  PPD  99.0  1.0  10000.00   \n",
            "338                       Interes de Financiamiento  PUE   3.0  1.0   1643.63   \n",
            "343                INTEGRACION DE EQUIPO DE TRABAJO  PUE   3.0  1.0   3750.00   \n",
            "355                                            Pago  NaN   NaN  1.0      0.00   \n",
            "383                 Mob-HM 68 Aceite para compresor  PUE   3.0  1.0   5858.99   \n",
            "\n",
            "         IVA  RET ISR  RET IVA  Otros  TOTAL MX  TOTAL SAT Tipo   Status  \\\n",
            "17    401.28      0.0     0.00    NaN   3024.31    3024.31    I  Vigente   \n",
            "90   1600.00    125.0  1066.68    NaN  10408.32   10408.32    I  Vigente   \n",
            "93    600.00      0.0     0.00    NaN   4350.00    4350.00    I  Vigente   \n",
            "125   270.50      0.0     0.00    NaN   1961.11    1961.11    I  Vigente   \n",
            "191     0.00      0.0     0.00    NaN      0.00       0.00    P  Vigente   \n",
            "244     0.00      0.0     0.00    NaN      0.00       0.00    P  Vigente   \n",
            "257   382.48      0.0     0.00    NaN   2888.03    2888.03    I  Vigente   \n",
            "262    30.07      0.0     0.00    NaN    218.00     218.00    I  Vigente   \n",
            "327  1600.00    125.0  1066.68    NaN  10408.32   10408.32    I  Vigente   \n",
            "338   262.98      0.0     0.00    NaN   1906.61    1906.61    I  Vigente   \n",
            "343   600.00      0.0     0.00    NaN   4350.00    4350.00    I  Vigente   \n",
            "355     0.00      0.0     0.00    NaN      0.00       0.00    P  Vigente   \n",
            "383   937.44      0.0     0.00    NaN   6796.43    6796.43    I  Vigente   \n",
            "\n",
            "          Poliza  \n",
            "17    PE96-ENE23  \n",
            "90   PE101-ENE23  \n",
            "93    PE66-ENE23  \n",
            "125   PE69-ENE23  \n",
            "191          NaN  \n",
            "244          NaN  \n",
            "257   PE74-FEB23  \n",
            "262   PE64-FEB23  \n",
            "327          NaN  \n",
            "338   PE54-FEB23  \n",
            "343  PE107-FEB23  \n",
            "355          NaN  \n",
            "383          NaN  \n"
          ]
        }
      ]
    },
    {
      "cell_type": "code",
      "source": [
        "# 1. Sustitución de valores de  Folio\n",
        "# Este bloque identifica las filas donde el Folio está vacío (mask = True).\n",
        "# Luego genera valores únicos de reemplazo: \"SIN_FOLIO_1\", \"SIN_FOLIO_2\", ...\n",
        "# De esta manera, cada registro conserva un identificador aunque no tenga Folio original, evitando duplicados o pérdida de información y podiendo identificar cuales fueron los datos imputados.\n",
        "mask = df2023[\"Folio\"].isnull()\n",
        "df2023.loc[mask, \"Folio\"] = [f\"SIN_FOLIO_{i}\" for i in range(1, mask.sum()+1)]"
      ],
      "metadata": {
        "id": "jyWFRmKoIDRp"
      },
      "execution_count": 7,
      "outputs": []
    },
    {
      "cell_type": "code",
      "source": [
        "# 2. Eliminamos las columnas de MP Y FP vacias\n",
        "# --- Comprobación específica de MP y FP ---\n",
        "# Sabemos por la revisión en Excel que los valores faltantes en estas columnas aparecen como celdas vacías o con el símbolo \"-\".\n",
        "# Hacemos una verificación rápida de cuántos registros cumplen esa condición.\n",
        "\n",
        "mp_invalidos = ((df2023[\"MP\"].isna()) | (df2023[\"MP\"] == \"-\")).sum()\n",
        "fp_invalidos = ((df2023[\"FP\"].isna()) | (df2023[\"FP\"] == \"-\")).sum()\n",
        "\n",
        "print(f\"Registros inválidos detectados en MP: {mp_invalidos}\")\n",
        "print(f\"Registros inválidos detectados en FP: {fp_invalidos}\")"
      ],
      "metadata": {
        "colab": {
          "base_uri": "https://localhost:8080/"
        },
        "id": "l-FXhaKTPpKh",
        "outputId": "418234a5-4f68-43dc-df98-74f026bd4bfe"
      },
      "execution_count": 8,
      "outputs": [
        {
          "output_type": "stream",
          "name": "stdout",
          "text": [
            "Registros inválidos detectados en MP: 71\n",
            "Registros inválidos detectados en FP: 71\n"
          ]
        }
      ]
    },
    {
      "cell_type": "code",
      "source": [
        "# --- Eliminación de esas filas ---\n",
        "# Eliminamos los registros que tengan valores vacíos o \"-\" en MP o FP\n",
        "df2023 = df2023[~(\n",
        "    (df2023[\"MP\"].isna()) | (df2023[\"MP\"] == \"-\") |\n",
        "    (df2023[\"FP\"].isna()) | (df2023[\"FP\"] == \"-\")\n",
        ")]"
      ],
      "metadata": {
        "id": "qWEEzLuFZzfp"
      },
      "execution_count": 9,
      "outputs": []
    },
    {
      "cell_type": "code",
      "source": [
        "# 3.- Eliminación de la columna 'Otros'\n",
        "# --- Comprobación de la columna 'Otros' ---\n",
        "# Según lo observado en Excel, toda la columna está vacía.\n",
        "# Verificamos cuántos valores nulos hay y el total de registros.\n",
        "\n",
        "nulos_otros = df2023[\"Otros\"].isna().sum()\n",
        "total_registros = len(df2023)\n",
        "\n",
        "print(f\"Nulos en 'Otros': {nulos_otros} de {total_registros}\")\n"
      ],
      "metadata": {
        "colab": {
          "base_uri": "https://localhost:8080/"
        },
        "id": "jLmBXdGNZ9Zj",
        "outputId": "a5461e0d-7577-49ad-c8fb-b2e08ae4eda5"
      },
      "execution_count": 10,
      "outputs": [
        {
          "output_type": "stream",
          "name": "stdout",
          "text": [
            "Nulos en 'Otros': 326 de 326\n"
          ]
        }
      ]
    },
    {
      "cell_type": "code",
      "source": [
        "# --- Eliminación de la columna ---\n",
        "# Como 'Otros' está completamente vacía, se elimina del DataFrame.\n",
        "df2023 = df2023.drop(columns=[\"Otros\"])"
      ],
      "metadata": {
        "id": "O-9k3NLMaYQ-"
      },
      "execution_count": 11,
      "outputs": []
    },
    {
      "cell_type": "code",
      "source": [
        "# 4. Sustitución de valores de Poliza\n",
        "# Identificamos las filas donde Poliza está vacío (mask = True).\n",
        "# Luego generamos valores únicos de reemplazo: \"SIN_POLIZA_1\", \"SIN_POLIZA_2\", ...\n",
        "# Así cada registro conserva un identificador único, evitando duplicados y dejando claro cuáles fueron imputados.\n",
        "\n",
        "mask = df2023[\"Poliza\"].isnull()\n",
        "df2023.loc[mask, \"Poliza\"] = [f\"SIN_POLIZA_{i}\" for i in range(1, mask.sum()+1)]\n"
      ],
      "metadata": {
        "id": "uRbKBRyOabrX"
      },
      "execution_count": 12,
      "outputs": []
    },
    {
      "cell_type": "code",
      "source": [
        "# 5. Imputación de TIPO GASTO\n",
        "# Obtener la moda de TIPO GASTO\n",
        "moda_tipo_gasto = df2023[\"TIPO GASTO\"].mode()[0]\n",
        "\n",
        "# Sustituir nulos con la moda\n",
        "df2023[\"TIPO GASTO\"] = df2023[\"TIPO GASTO\"].fillna(moda_tipo_gasto)"
      ],
      "metadata": {
        "id": "nebN_YNybmWs"
      },
      "execution_count": 13,
      "outputs": []
    },
    {
      "cell_type": "code",
      "source": [
        "# Comprobación de que ya no queden nulos\n",
        "print(\"Nulos restantes por columna:\")\n",
        "print(df2023.isnull().sum())\n",
        "\n",
        "# Mostrar algunos ejemplos de Folio y Poliza imputados\n",
        "print(\"\\nEjemplos Folio:\")\n",
        "print(df2023[\"Folio\"].head(10))\n",
        "\n",
        "print(\"\\nEjemplos Poliza:\")\n",
        "print(df2023[\"Poliza\"].head(10))\n",
        "\n",
        "# Mostrar la moda utilizada y algunos ejemplos de TIPO GASTO\n",
        "moda_tipo_gasto = df2023[\"TIPO GASTO\"].mode()[0]\n",
        "print(f\"\\nModa utilizada para TIPO GASTO: {moda_tipo_gasto}\")\n",
        "print(\"Ejemplos TIPO GASTO:\")\n",
        "print(df2023[\"TIPO GASTO\"].head(10))"
      ],
      "metadata": {
        "colab": {
          "base_uri": "https://localhost:8080/"
        },
        "id": "8HANyFEHbTDw",
        "outputId": "f8254808-b49d-4445-a65a-e430eae0e43b"
      },
      "execution_count": 14,
      "outputs": [
        {
          "output_type": "stream",
          "name": "stdout",
          "text": [
            "Nulos restantes por columna:\n",
            "Fecha          0\n",
            "Folio          0\n",
            "UUID           0\n",
            "RFC            0\n",
            "Proveedor      0\n",
            "TIPO GASTO     0\n",
            "Descripción    0\n",
            "MP             0\n",
            "FP             0\n",
            "TC             0\n",
            "Importe        0\n",
            "IVA            0\n",
            "RET ISR        0\n",
            "RET IVA        0\n",
            "TOTAL MX       0\n",
            "TOTAL SAT      0\n",
            "Tipo           0\n",
            "Status         0\n",
            "Poliza         0\n",
            "dtype: int64\n",
            "\n",
            "Ejemplos Folio:\n",
            "2                     341932\n",
            "3                     341933\n",
            "4                     342205\n",
            "5     0001010100750847116902\n",
            "6               007817297284\n",
            "7                         56\n",
            "8                   90864603\n",
            "14                   4640966\n",
            "15            22022120028311\n",
            "17               SIN_FOLIO_1\n",
            "Name: Folio, dtype: object\n",
            "\n",
            "Ejemplos Poliza:\n",
            "2       PE01-ENE23\n",
            "3       PE02-ENE23\n",
            "4       PE03-ENE23\n",
            "5       PE50-FEB23\n",
            "6     SIN_POLIZA_1\n",
            "7      PE100-ENE23\n",
            "8      PE136-ENE23\n",
            "14    SIN_POLIZA_2\n",
            "15    SIN_POLIZA_3\n",
            "17      PE96-ENE23\n",
            "Name: Poliza, dtype: object\n",
            "\n",
            "Moda utilizada para TIPO GASTO: COMPRAS\n",
            "Ejemplos TIPO GASTO:\n",
            "2     ARRENDAMIENTO FINANCIERO\n",
            "3     ARRENDAMIENTO FINANCIERO\n",
            "4     ARRENDAMIENTO FINANCIERO\n",
            "5            COMISION BANCARIA\n",
            "6            COMISION BANCARIA\n",
            "7                 CAPACITACION\n",
            "8                      SEGUROS\n",
            "14                NO DEDUCIBLE\n",
            "15           COMISION BANCARIA\n",
            "17                    TELEFONO\n",
            "Name: TIPO GASTO, dtype: object\n"
          ]
        }
      ]
    },
    {
      "cell_type": "code",
      "source": [
        "# Guardar DataFrame limpio en CSV\n",
        "df2023.to_csv(\"df2023_limpio.csv\", index=False, encoding=\"utf-8-sig\")\n",
        "\n",
        "print(\"Archivo guardado como: df2023_limpio.csv\")\n"
      ],
      "metadata": {
        "colab": {
          "base_uri": "https://localhost:8080/"
        },
        "id": "mYKHCK0vcDoE",
        "outputId": "e56b3b2f-93cc-4bbd-e1aa-0deec132d685"
      },
      "execution_count": 15,
      "outputs": [
        {
          "output_type": "stream",
          "name": "stdout",
          "text": [
            "Archivo guardado como: df2023_limpio.csv\n"
          ]
        }
      ]
    }
  ]
}