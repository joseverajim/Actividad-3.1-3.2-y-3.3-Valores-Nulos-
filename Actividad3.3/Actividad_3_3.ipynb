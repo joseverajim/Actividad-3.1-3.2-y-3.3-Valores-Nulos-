{
  "nbformat": 4,
  "nbformat_minor": 0,
  "metadata": {
    "colab": {
      "provenance": [],
      "authorship_tag": "ABX9TyOADu6S6k70jrUnewsgyUq+",
      "include_colab_link": true
    },
    "kernelspec": {
      "name": "python3",
      "display_name": "Python 3"
    },
    "language_info": {
      "name": "python"
    }
  },
  "cells": [
    {
      "cell_type": "markdown",
      "metadata": {
        "id": "view-in-github",
        "colab_type": "text"
      },
      "source": [
        "<a href=\"https://colab.research.google.com/github/joseverajim/Actividad-3.1-3.2-y-3.3-Valores-Nulos-/blob/main/Actividad3.3/Actividad_3_3.ipynb\" target=\"_parent\"><img src=\"https://colab.research.google.com/assets/colab-badge.svg\" alt=\"Open In Colab\"/></a>"
      ]
    },
    {
      "cell_type": "code",
      "execution_count": 137,
      "metadata": {
        "id": "cQr31rtoYoKq",
        "colab": {
          "base_uri": "https://localhost:8080/"
        },
        "outputId": "88b4a128-adb1-408b-a4c7-4ad48dcec2e7"
      },
      "outputs": [
        {
          "output_type": "stream",
          "name": "stdout",
          "text": [
            "Index(['id', 'name', 'description', 'neighbourhood_cleansed', 'latitude',\n",
            "       'longitude', 'property_type', 'room_type', 'accommodates', 'bathrooms',\n",
            "       'bedrooms', 'beds', 'amenities', 'price', 'minimum_nights',\n",
            "       'maximum_nights', 'availability_30', 'availability_60',\n",
            "       'availability_90', 'availability_365', 'number_of_reviews',\n",
            "       'number_of_reviews_ltm', 'number_of_reviews_l30d', 'first_review',\n",
            "       'last_review', 'review_scores_rating', 'review_scores_accuracy',\n",
            "       'review_scores_cleanliness', 'review_scores_checkin',\n",
            "       'review_scores_communication', 'review_scores_location',\n",
            "       'review_scores_value', 'reviews_per_month', 'host_id', 'host_name',\n",
            "       'host_since', 'host_location', 'host_response_time',\n",
            "       'host_response_rate', 'host_acceptance_rate', 'host_is_superhost',\n",
            "       'host_listings_count', 'host_total_listings_count',\n",
            "       'host_identity_verified', 'instant_bookable',\n",
            "       'calculated_host_listings_count',\n",
            "       'calculated_host_listings_count_entire_homes',\n",
            "       'calculated_host_listings_count_private_rooms',\n",
            "       'calculated_host_listings_count_shared_rooms',\n",
            "       'estimated_occupancy_l365d', 'estimated_revenue_l365d'],\n",
            "      dtype='object')\n",
            "(22783, 51)\n"
          ]
        }
      ],
      "source": [
        "import pandas as pd\n",
        "import numpy as np\n",
        "df2023 = pd.read_csv('Ciudad_Pais.csv')\n",
        "print(df2023.columns)\n",
        "print(df2023.shape)"
      ]
    },
    {
      "cell_type": "code",
      "source": [
        "#Revisar cuántos vacíos hay por columna\n",
        "print(df2023.isnull().sum())"
      ],
      "metadata": {
        "colab": {
          "base_uri": "https://localhost:8080/"
        },
        "id": "AkhAwYRshDP6",
        "outputId": "cb486066-7a57-49c7-a0f1-298a9ac844e5"
      },
      "execution_count": 138,
      "outputs": [
        {
          "output_type": "stream",
          "name": "stdout",
          "text": [
            "id                                                 0\n",
            "name                                               0\n",
            "description                                      361\n",
            "neighbourhood_cleansed                             0\n",
            "latitude                                           0\n",
            "longitude                                          0\n",
            "property_type                                      0\n",
            "room_type                                          0\n",
            "accommodates                                       0\n",
            "bathrooms                                       2145\n",
            "bedrooms                                         257\n",
            "beds                                            2144\n",
            "amenities                                          0\n",
            "price                                           2138\n",
            "minimum_nights                                     0\n",
            "maximum_nights                                     0\n",
            "availability_30                                    0\n",
            "availability_60                                    0\n",
            "availability_90                                    0\n",
            "availability_365                                   0\n",
            "number_of_reviews                                  0\n",
            "number_of_reviews_ltm                              0\n",
            "number_of_reviews_l30d                             0\n",
            "first_review                                    3103\n",
            "last_review                                     3103\n",
            "review_scores_rating                            3103\n",
            "review_scores_accuracy                          3108\n",
            "review_scores_cleanliness                       3108\n",
            "review_scores_checkin                           3108\n",
            "review_scores_communication                     3108\n",
            "review_scores_location                          3108\n",
            "review_scores_value                             3108\n",
            "reviews_per_month                               3103\n",
            "host_id                                            0\n",
            "host_name                                          0\n",
            "host_since                                         0\n",
            "host_location                                   6467\n",
            "host_response_time                               521\n",
            "host_response_rate                               521\n",
            "host_acceptance_rate                             386\n",
            "host_is_superhost                               1440\n",
            "host_listings_count                                0\n",
            "host_total_listings_count                          0\n",
            "host_identity_verified                             0\n",
            "instant_bookable                                   0\n",
            "calculated_host_listings_count                     0\n",
            "calculated_host_listings_count_entire_homes        0\n",
            "calculated_host_listings_count_private_rooms       0\n",
            "calculated_host_listings_count_shared_rooms        0\n",
            "estimated_occupancy_l365d                          0\n",
            "estimated_revenue_l365d                         2138\n",
            "dtype: int64\n"
          ]
        }
      ]
    },
    {
      "cell_type": "code",
      "source": [
        "# --- Eliminación de la columna host_location ---\n",
        "# La columna host_location se descarta porque presenta un número muy alto de valores nulos\n",
        "# (más de la mitad del total de registros) y no aporta información consistente, además se\n",
        "# había colado en la base generando 51 columnas cuando deberían ser 50.\n",
        "df2023 = df2023.drop(columns=['host_location'], errors='ignore')"
      ],
      "metadata": {
        "id": "hd7bo1LWzb99"
      },
      "execution_count": 152,
      "outputs": []
    },
    {
      "cell_type": "code",
      "source": [
        "# Los valores nulos en description se reemplazaron por \"No Description\", ya que corresponden a anuncios sin información adicional del anfitrión.\n",
        "df2023['description'] = df2023['description'].fillna(\"No Description\")"
      ],
      "metadata": {
        "id": "Oc6Jn1VmjXMk"
      },
      "execution_count": 140,
      "outputs": []
    },
    {
      "cell_type": "code",
      "source": [
        "# bathrooms, bedrooms, beds, price → mediana\n",
        "# Usamos la MEDIANA porque:\n",
        "# - Es robusta a valores extremos (ej: un Airbnb con 50 camas o un precio exagerado). Representa mejor el \"valor típico\" en este tipo de variables numéricas y así evitamos que la imputación se distorsione por outliers.\n",
        "for col in [\"bathrooms\", \"bedrooms\", \"beds\", \"price\"]:\n",
        "    if col in df2023.columns:\n",
        "        df2023[col] = pd.to_numeric(df2023[col], errors=\"coerce\")\n",
        "        df2023[col] = df2023[col].fillna(df2023[col].median())\n",
        "\n",
        "# amenities → texto\n",
        "# Aquí no tiene sentido usar mediana ni promedio porque es una lista de características. Simplemente rellenamos con \"[]\" (lista vacía) para indicar que no se registraron amenities.\n",
        "if \"amenities\" in df2023.columns:\n",
        "    df2023[\"amenities\"] = df2023[\"amenities\"].fillna(\"[]\")"
      ],
      "metadata": {
        "id": "PhmV2DNasg-Q"
      },
      "execution_count": 141,
      "outputs": []
    },
    {
      "cell_type": "code",
      "source": [
        "#Se detecto que hay muchas columnas con un solo valor faltante, por lo que se procedio a inspeccionar si esta correspondia a la misma fila y en caso de ser asi eliminarla al tener tantos faltantes\n",
        "# Seleccionamos solo las columnas con nulos\n",
        "null_cols = df2023.columns[df2023.isna().any()]\n",
        "\n",
        "# Filtramos filas que tengan al menos un nulo en esas columnas\n",
        "rows_with_nulls = df2023[df2023[null_cols].isna().any(axis=1)]\n",
        "\n",
        "print(\"Filas con nulos:\", rows_with_nulls.shape[0])\n",
        "\n",
        "# --- Ver si los nulos coinciden siempre en las mismas filas ---\n",
        "# Contamos cuántas columnas están nulas en cada fila\n",
        "rows_with_nulls[\"null_count\"] = rows_with_nulls[null_cols].isna().sum(axis=1)\n",
        "\n",
        "print(rows_with_nulls[\"null_count\"].value_counts().head(10))\n",
        "\n",
        "# --- Eliminamos esas filas ---\n",
        "df2023_clean = df2023.dropna(subset=null_cols, how=\"all\")  # elimina filas con todos nulos en esas cols\n",
        "\n",
        "print(\"Shape original:\", df2023.shape)\n",
        "print(\"Shape limpio:\", df2023_clean.shape)"
      ],
      "metadata": {
        "colab": {
          "base_uri": "https://localhost:8080/"
        },
        "id": "-qyMl2dDu-at",
        "outputId": "9107d1d2-3bb3-43dd-9209-af0a748c7efa"
      },
      "execution_count": 142,
      "outputs": [
        {
          "output_type": "stream",
          "name": "stdout",
          "text": [
            "Filas con nulos: 6226\n",
            "null_count\n",
            "1     2620\n",
            "10    2601\n",
            "11     348\n",
            "4      191\n",
            "2      159\n",
            "3      142\n",
            "14      80\n",
            "12      42\n",
            "13      32\n",
            "5        6\n",
            "Name: count, dtype: int64\n",
            "Shape original: (22783, 50)\n",
            "Shape limpio: (22783, 50)\n"
          ]
        },
        {
          "output_type": "stream",
          "name": "stderr",
          "text": [
            "/tmp/ipython-input-3120525580.py:12: SettingWithCopyWarning: \n",
            "A value is trying to be set on a copy of a slice from a DataFrame.\n",
            "Try using .loc[row_indexer,col_indexer] = value instead\n",
            "\n",
            "See the caveats in the documentation: https://pandas.pydata.org/pandas-docs/stable/user_guide/indexing.html#returning-a-view-versus-a-copy\n",
            "  rows_with_nulls[\"null_count\"] = rows_with_nulls[null_cols].isna().sum(axis=1)\n"
          ]
        }
      ]
    },
    {
      "cell_type": "code",
      "source": [
        "# --- Imputación con PROMEDIO en variables de reseñas --- se rellenan los nulos con el promedio de cada columna para asignar un valor representativo del conjunto y mantener consistencia sin dejar huecos\n",
        "# reviews_per_month\n",
        "df2023['reviews_per_month'] = pd.to_numeric(df2023['reviews_per_month'], errors='coerce')\n",
        "df2023['reviews_per_month'] = df2023['reviews_per_month'].fillna(df2023['reviews_per_month'].mean())\n",
        "\n",
        "# review_scores_* (todas las métricas de reseñas)\n",
        "score_cols = [c for c in df2023.columns if c.startswith('review_scores_')]\n",
        "for c in score_cols:\n",
        "    df2023[c] = pd.to_numeric(df2023[c], errors='coerce')\n",
        "    df2023[c] = df2023[c].fillna(df2023[c].mean())"
      ],
      "metadata": {
        "id": "wZtn1O1HwzaO"
      },
      "execution_count": 143,
      "outputs": []
    },
    {
      "cell_type": "code",
      "source": [
        "# --- Imputación en columnas first_review y last_review --- Estas columnas muestran la fecha de la primera y la última reseña; los nulos significan que el alojamiento nunca recibió reseñas, pero para mantener consistencia se sustituyen con la mediana temporal de cada columna, que representa el punto medio de las fechas observadas, y además se crea la columna no_review_dates para marcar con 1 los casos sin reseñas y con 0 los que sí tienen, de modo que no se pierde la referencia de cuáles registros fueron imputados.\n",
        "for col in ['first_review','last_review']:\n",
        "    df2023[f'was_na__{col}'] = df2023[col].isna().astype(int)\n",
        "    df2023[col] = pd.to_datetime(df2023[col], errors='coerce')\n",
        "    med = df2023[col].median()\n",
        "    df2023[col] = df2023[col].fillna(med)\n",
        "\n",
        "df2023['no_review_dates'] = df2023['first_review'].isna().astype(int)"
      ],
      "metadata": {
        "id": "6_itKCXBw0N8"
      },
      "execution_count": 144,
      "outputs": []
    },
    {
      "cell_type": "code",
      "source": [
        "#Revisar cuántos vacíos hay por columna\n",
        "print(df2023.isnull().sum())"
      ],
      "metadata": {
        "colab": {
          "base_uri": "https://localhost:8080/"
        },
        "id": "unPLFznIwBHO",
        "outputId": "a8d5561e-bc5a-4e86-a9c1-d129008fc13a"
      },
      "execution_count": 145,
      "outputs": [
        {
          "output_type": "stream",
          "name": "stdout",
          "text": [
            "id                                                 0\n",
            "name                                               0\n",
            "description                                        0\n",
            "neighbourhood_cleansed                             0\n",
            "latitude                                           0\n",
            "longitude                                          0\n",
            "property_type                                      0\n",
            "room_type                                          0\n",
            "accommodates                                       0\n",
            "bathrooms                                          0\n",
            "bedrooms                                           0\n",
            "beds                                               0\n",
            "amenities                                          0\n",
            "price                                              0\n",
            "minimum_nights                                     0\n",
            "maximum_nights                                     0\n",
            "availability_30                                    0\n",
            "availability_60                                    0\n",
            "availability_90                                    0\n",
            "availability_365                                   0\n",
            "number_of_reviews                                  0\n",
            "number_of_reviews_ltm                              0\n",
            "number_of_reviews_l30d                             0\n",
            "first_review                                       0\n",
            "last_review                                        0\n",
            "review_scores_rating                               0\n",
            "review_scores_accuracy                             0\n",
            "review_scores_cleanliness                          0\n",
            "review_scores_checkin                              0\n",
            "review_scores_communication                        0\n",
            "review_scores_location                             0\n",
            "review_scores_value                                0\n",
            "reviews_per_month                                  0\n",
            "host_id                                            0\n",
            "host_name                                          0\n",
            "host_since                                         0\n",
            "host_response_time                               521\n",
            "host_response_rate                               521\n",
            "host_acceptance_rate                             386\n",
            "host_is_superhost                               1440\n",
            "host_listings_count                                0\n",
            "host_total_listings_count                          0\n",
            "host_identity_verified                             0\n",
            "instant_bookable                                   0\n",
            "calculated_host_listings_count                     0\n",
            "calculated_host_listings_count_entire_homes        0\n",
            "calculated_host_listings_count_private_rooms       0\n",
            "calculated_host_listings_count_shared_rooms        0\n",
            "estimated_occupancy_l365d                          0\n",
            "estimated_revenue_l365d                         2138\n",
            "was_na__first_review                               0\n",
            "was_na__last_review                                0\n",
            "no_review_dates                                    0\n",
            "dtype: int64\n"
          ]
        }
      ]
    },
    {
      "cell_type": "code",
      "source": [
        "# --- Imputación con promedio en estimated_revenue_l365d --- Se imputan los valores nulos con el promedio de la columna porque este valor representa al conjunto de datos y permite conservar la escala original, de esta forma se evita eliminar registros que podrían ser útiles, se mantiene la coherencia en la distribución general y no se introducen valores extremos que distorsionen el análisis.\n",
        "df2023['was_na__estimated_revenue_l365d'] = df2023['estimated_revenue_l365d'].isna().astype(int)\n",
        "df2023['estimated_revenue_l365d'] = df2023['estimated_revenue_l365d'].fillna(df2023['estimated_revenue_l365d'].mean())\n"
      ],
      "metadata": {
        "id": "u7lRav0I00Hk"
      },
      "execution_count": 146,
      "outputs": []
    },
    {
      "cell_type": "code",
      "source": [
        "\n",
        "import numpy as np\n",
        "\n",
        "# --- Imputación de variables de host --- En host_is_superhost se usó la moda porque es una variable binaria y lo correcto es asignar el valor más frecuente; en host_response_time también se utilizó la moda ya que se trata de categorías de tiempo de respuesta y lo más adecuado es rellenar con la categoría más común; en host_response_rate y host_acceptance_rate se quitaron los símbolos de porcentaje y se imputaron con el promedio ya que son variables numéricas continuas y el promedio permite darles un valor representativo del conjunto sin alterar las categorías existentes.\n",
        "\n",
        "# host_is_superhost\n",
        "df2023['was_na__host_is_superhost'] = df2023['host_is_superhost'].isna().astype(int)\n",
        "df2023['host_is_superhost'] = df2023['host_is_superhost'].fillna(df2023['host_is_superhost'].mode()[0])\n",
        "\n",
        "# host_response_time\n",
        "df2023['was_na__host_response_time'] = df2023['host_response_time'].isna().astype(int)\n",
        "df2023['host_response_time'] = df2023['host_response_time'].fillna(df2023['host_response_time'].mode()[0])\n",
        "\n",
        "# host_response_rate y host_acceptance_rate\n",
        "for col in ['host_response_rate','host_acceptance_rate']:\n",
        "    df2023['was_na__' + col] = df2023[col].isna().astype(int)\n",
        "    df2023[col] = df2023[col].astype(str).str.replace('%','').replace('nan', np.nan).astype(float)\n",
        "    df2023[col] = df2023[col].fillna(df2023[col].mean())\n",
        "\n"
      ],
      "metadata": {
        "id": "MmlNqbkW1HbX"
      },
      "execution_count": 147,
      "outputs": []
    },
    {
      "cell_type": "code",
      "source": [
        "nulos = df2023.isnull().sum().reset_index()\n",
        "nulos.columns = ['columna','nulos']\n",
        "print(nulos.sort_values(by='nulos', ascending=False))"
      ],
      "metadata": {
        "colab": {
          "base_uri": "https://localhost:8080/"
        },
        "id": "uXmL2pAQ0cdE",
        "outputId": "e5b585dc-7172-46f4-f23a-d68bb908275e"
      },
      "execution_count": 148,
      "outputs": [
        {
          "output_type": "stream",
          "name": "stdout",
          "text": [
            "                                         columna  nulos\n",
            "0                                             id      0\n",
            "1                                           name      0\n",
            "2                                    description      0\n",
            "3                         neighbourhood_cleansed      0\n",
            "4                                       latitude      0\n",
            "5                                      longitude      0\n",
            "6                                  property_type      0\n",
            "7                                      room_type      0\n",
            "8                                   accommodates      0\n",
            "9                                      bathrooms      0\n",
            "10                                      bedrooms      0\n",
            "11                                          beds      0\n",
            "12                                     amenities      0\n",
            "13                                         price      0\n",
            "14                                minimum_nights      0\n",
            "15                                maximum_nights      0\n",
            "16                               availability_30      0\n",
            "17                               availability_60      0\n",
            "18                               availability_90      0\n",
            "19                              availability_365      0\n",
            "20                             number_of_reviews      0\n",
            "21                         number_of_reviews_ltm      0\n",
            "22                        number_of_reviews_l30d      0\n",
            "23                                  first_review      0\n",
            "24                                   last_review      0\n",
            "25                          review_scores_rating      0\n",
            "26                        review_scores_accuracy      0\n",
            "27                     review_scores_cleanliness      0\n",
            "28                         review_scores_checkin      0\n",
            "29                   review_scores_communication      0\n",
            "30                        review_scores_location      0\n",
            "31                           review_scores_value      0\n",
            "32                             reviews_per_month      0\n",
            "33                                       host_id      0\n",
            "34                                     host_name      0\n",
            "35                                    host_since      0\n",
            "36                            host_response_time      0\n",
            "37                            host_response_rate      0\n",
            "38                          host_acceptance_rate      0\n",
            "39                             host_is_superhost      0\n",
            "40                           host_listings_count      0\n",
            "41                     host_total_listings_count      0\n",
            "42                        host_identity_verified      0\n",
            "43                              instant_bookable      0\n",
            "44                calculated_host_listings_count      0\n",
            "45   calculated_host_listings_count_entire_homes      0\n",
            "46  calculated_host_listings_count_private_rooms      0\n",
            "47   calculated_host_listings_count_shared_rooms      0\n",
            "48                     estimated_occupancy_l365d      0\n",
            "49                       estimated_revenue_l365d      0\n",
            "50                          was_na__first_review      0\n",
            "51                           was_na__last_review      0\n",
            "52                               no_review_dates      0\n",
            "53               was_na__estimated_revenue_l365d      0\n",
            "54                     was_na__host_is_superhost      0\n",
            "55                    was_na__host_response_time      0\n",
            "56                    was_na__host_response_rate      0\n",
            "57                  was_na__host_acceptance_rate      0\n"
          ]
        }
      ]
    },
    {
      "cell_type": "code",
      "source": [
        "# --- Volver a EXACTAMENTE las columnas originales del CSV ---\n",
        "orig_cols = list(pd.read_csv(\"Ciudad_Pais.csv\", nrows=0).columns)  # columnas originales (deben ser 50)\n",
        "\n",
        "\n",
        "# --- Eliminación de la columna host_location ---\n",
        "# La columna host_location se descarta porque presenta un número muy alto de valores nulos\n",
        "# (más de la mitad del total de registros) y no aporta información consistente, además se\n",
        "# había colado en la base generando 51 columnas cuando deberían ser 50.\n",
        "df2023 = df2023.drop(columns=['host_location'], errors='ignore')\n",
        "\n",
        "# Reportar qué columnas sobran\n",
        "extras = [c for c in df2023.columns if c not in orig_cols]\n",
        "print(\"Columnas extra que se eliminarán:\", extras)\n",
        "\n",
        "# Mantener solo las originales, en el mismo orden\n",
        "df2023 = df2023.reindex(columns=orig_cols)"
      ],
      "metadata": {
        "colab": {
          "base_uri": "https://localhost:8080/"
        },
        "id": "O90kffUb6YOB",
        "outputId": "e6e0e741-f682-4ffe-a20c-c93a6456a941"
      },
      "execution_count": 160,
      "outputs": [
        {
          "output_type": "stream",
          "name": "stdout",
          "text": [
            "Columnas extra que se eliminarán: []\n"
          ]
        }
      ]
    },
    {
      "cell_type": "code",
      "source": [
        "# --- Eliminación de la columna host_location ---\n",
        "# La columna host_location se descarta porque presenta un número muy alto de valores nulos\n",
        "# (más de la mitad del total de registros) y no aporta información consistente, además se\n",
        "# había colado en la base generando 51 columnas cuando deberían ser 50.\n",
        "df2023 = df2023.drop(columns=['host_location'], errors='ignore')"
      ],
      "metadata": {
        "id": "l9G2Kt1Z7HAF"
      },
      "execution_count": 161,
      "outputs": []
    },
    {
      "cell_type": "code",
      "source": [
        "# --- Verificación de nulos en la baseaFrame:\"\n",
        "(df2023.isna().sum().sum())\n",
        "\n",
        "# Conteo de nulos por columna\n",
        "print(\"\\nNulos por columna:\")\n",
        "print(df2023.isna().sum())\n",
        "print(df2023.shape)"
      ],
      "metadata": {
        "colab": {
          "base_uri": "https://localhost:8080/"
        },
        "id": "DpJSRxTQ2NH_",
        "outputId": "76a1d191-6f8b-434c-c4a2-095effc18f93"
      },
      "execution_count": 162,
      "outputs": [
        {
          "output_type": "stream",
          "name": "stdout",
          "text": [
            "\n",
            "Nulos por columna:\n",
            "id                                              0\n",
            "name                                            0\n",
            "description                                     0\n",
            "neighbourhood_cleansed                          0\n",
            "latitude                                        0\n",
            "longitude                                       0\n",
            "property_type                                   0\n",
            "room_type                                       0\n",
            "accommodates                                    0\n",
            "bathrooms                                       0\n",
            "bedrooms                                        0\n",
            "beds                                            0\n",
            "amenities                                       0\n",
            "price                                           0\n",
            "minimum_nights                                  0\n",
            "maximum_nights                                  0\n",
            "availability_30                                 0\n",
            "availability_60                                 0\n",
            "availability_90                                 0\n",
            "availability_365                                0\n",
            "number_of_reviews                               0\n",
            "number_of_reviews_ltm                           0\n",
            "number_of_reviews_l30d                          0\n",
            "first_review                                    0\n",
            "last_review                                     0\n",
            "review_scores_rating                            0\n",
            "review_scores_accuracy                          0\n",
            "review_scores_cleanliness                       0\n",
            "review_scores_checkin                           0\n",
            "review_scores_communication                     0\n",
            "review_scores_location                          0\n",
            "review_scores_value                             0\n",
            "reviews_per_month                               0\n",
            "host_id                                         0\n",
            "host_name                                       0\n",
            "host_since                                      0\n",
            "host_response_time                              0\n",
            "host_response_rate                              0\n",
            "host_acceptance_rate                            0\n",
            "host_is_superhost                               0\n",
            "host_listings_count                             0\n",
            "host_total_listings_count                       0\n",
            "host_identity_verified                          0\n",
            "instant_bookable                                0\n",
            "calculated_host_listings_count                  0\n",
            "calculated_host_listings_count_entire_homes     0\n",
            "calculated_host_listings_count_private_rooms    0\n",
            "calculated_host_listings_count_shared_rooms     0\n",
            "estimated_occupancy_l365d                       0\n",
            "estimated_revenue_l365d                         0\n",
            "dtype: int64\n",
            "(22783, 50)\n"
          ]
        }
      ]
    },
    {
      "cell_type": "code",
      "source": [
        "# --- Guardar la base limpia con nombre Tokyo ---\n",
        "df2023.to_csv(\"Tokyo_Limpia.csv\", index=False, encoding=\"utf-8\")"
      ],
      "metadata": {
        "id": "7L-3-DfE2WLG"
      },
      "execution_count": 163,
      "outputs": []
    }
  ]
}