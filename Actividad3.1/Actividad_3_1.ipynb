{
  "nbformat": 4,
  "nbformat_minor": 0,
  "metadata": {
    "colab": {
      "provenance": [],
      "authorship_tag": "ABX9TyMIkDW2zW0W7MRvQi3ReGTj",
      "include_colab_link": true
    },
    "kernelspec": {
      "name": "python3",
      "display_name": "Python 3"
    },
    "language_info": {
      "name": "python"
    }
  },
  "cells": [
    {
      "cell_type": "markdown",
      "metadata": {
        "id": "view-in-github",
        "colab_type": "text"
      },
      "source": [
        "<a href=\"https://colab.research.google.com/github/joseverajim/Actividad-3.1-3.2-y-3.3-Valores-Nulos-/blob/main/Actividad3.1/Actividad_3_1.ipynb\" target=\"_parent\"><img src=\"https://colab.research.google.com/assets/colab-badge.svg\" alt=\"Open In Colab\"/></a>"
      ]
    },
    {
      "cell_type": "code",
      "execution_count": 1,
      "metadata": {
        "colab": {
          "base_uri": "https://localhost:8080/"
        },
        "id": "x-lSmmBLsukP",
        "outputId": "3419778c-7be2-4aac-a996-f61b224ece99"
      },
      "outputs": [
        {
          "output_type": "stream",
          "name": "stdout",
          "text": [
            "Index(['indice_tiempo', 'ventas_precios_corrientes',\n",
            "       'ventas_precios_constantes', 'ventas_totales_canal_venta',\n",
            "       'salon_ventas', 'canales_on_line', 'ventas_totales_medio_pago',\n",
            "       'efectivo', 'tarjetas_debito', 'tarjetas_credito', 'otros_medios',\n",
            "       'ventas_totales_grupo_articulos', 'subtotal_ventas_alimentos_bebidas',\n",
            "       'bebidas', 'almacen', 'panaderia', 'lacteos', 'carnes',\n",
            "       'verduleria_fruteria', 'alimentos_preparados_rotiseria',\n",
            "       'articulos_limpieza_perfumeria', 'indumentaria_calzado_textiles_hogar',\n",
            "       'electronicos_articulos_hogar', 'otros'],\n",
            "      dtype='object')\n",
            "(65, 24)\n",
            "\n",
            "Nulos por columna:\n",
            "indice_tiempo                           0\n",
            "ventas_precios_corrientes               0\n",
            "ventas_precios_constantes               0\n",
            "ventas_totales_canal_venta              0\n",
            "salon_ventas                            6\n",
            "canales_on_line                         0\n",
            "ventas_totales_medio_pago               0\n",
            "efectivo                                0\n",
            "tarjetas_debito                         1\n",
            "tarjetas_credito                        7\n",
            "otros_medios                            1\n",
            "ventas_totales_grupo_articulos          0\n",
            "subtotal_ventas_alimentos_bebidas      10\n",
            "bebidas                                 1\n",
            "almacen                                 2\n",
            "panaderia                               1\n",
            "lacteos                                 1\n",
            "carnes                                  1\n",
            "verduleria_fruteria                     1\n",
            "alimentos_preparados_rotiseria          1\n",
            "articulos_limpieza_perfumeria           0\n",
            "indumentaria_calzado_textiles_hogar     2\n",
            "electronicos_articulos_hogar            3\n",
            "otros                                   4\n",
            "dtype: int64\n"
          ]
        }
      ],
      "source": [
        "import pandas as pd\n",
        "\n",
        "# Cargar archivo\n",
        "df = pd.read_csv(\"Ventas_totales.csv\")\n",
        "\n",
        "# Revisar columnas y tamaño de la base\n",
        "print(df.columns)\n",
        "print(df.shape)\n",
        "\n",
        "# Ver cuántos nulos tiene cada columna\n",
        "print(\"\\nNulos por columna:\")\n",
        "print(df.isnull().sum())\n"
      ]
    },
    {
      "cell_type": "code",
      "source": [
        "# 6) Imputación de valores nulos\n",
        "# Estrategias utilizadas:\n",
        "# - Si la columna es NUMÉRICA -> reemplazamos nulos con la MEDIA\n",
        "# - Si la columna es TEXTO/CATEGÓRICA -> reemplazamos nulos con la MODA (valor más frecuente)\n",
        "\n",
        "# Initialize df_imp as a copy of df\n",
        "df_imp = df.copy()\n",
        "\n",
        "for c in df.columns:\n",
        "    if pd.api.types.is_numeric_dtype(df[c]):\n",
        "        # Calcular media y rellenar los nulos\n",
        "        media = df[c].mean()\n",
        "        df_imp[c] = df[c].fillna(media)\n",
        "        print(f\"Columna '{c}': numérica -> imputada con media = {media:.2f}\")\n",
        "    else:\n",
        "        # Calcular moda y rellenar los nulos\n",
        "        moda = df[c].mode(dropna=True)\n",
        "        if len(moda) > 0:\n",
        "            df_imp[c] = df[c].fillna(moda[0])\n",
        "            print(f\"Columna '{c}': categórica -> imputada con moda = {moda[0]}\")\n",
        "        else:\n",
        "            # Si no hay moda, rellenamos con \"Sin dato\"\n",
        "            df_imp[c] = df[c].fillna(\"Sin dato\")\n",
        "            print(f\"Columna '{c}': categórica -> imputada con 'Sin dato'\")\n",
        "\n",
        "# 7) Verificar nuevamente los nulos después de imputar\n",
        "print(\"\\nNulos por columna (después de imputar):\")\n",
        "print(df_imp.isnull().sum())"
      ],
      "metadata": {
        "colab": {
          "base_uri": "https://localhost:8080/"
        },
        "id": "QNKm_fHKvgGW",
        "outputId": "df84ab9e-69bf-4388-d73d-d0973ec71233"
      },
      "execution_count": 3,
      "outputs": [
        {
          "output_type": "stream",
          "name": "stdout",
          "text": [
            "Columna 'indice_tiempo': categórica -> imputada con moda = 01/01/2017\n",
            "Columna 'ventas_precios_corrientes': numérica -> imputada con media = 72240.20\n",
            "Columna 'ventas_precios_constantes': numérica -> imputada con media = 26063.70\n",
            "Columna 'ventas_totales_canal_venta': numérica -> imputada con media = 73738399.33\n",
            "Columna 'salon_ventas': numérica -> imputada con media = 75836086.41\n",
            "Columna 'canales_on_line': numérica -> imputada con media = 2077902.01\n",
            "Columna 'ventas_totales_medio_pago': numérica -> imputada con media = 74238030.10\n",
            "Columna 'efectivo': numérica -> imputada con media = 23784450.02\n",
            "Columna 'tarjetas_debito': numérica -> imputada con media = 19953140.37\n",
            "Columna 'tarjetas_credito': numérica -> imputada con media = 27261995.33\n",
            "Columna 'otros_medios': numérica -> imputada con media = 3450811.52\n",
            "Columna 'ventas_totales_grupo_articulos': numérica -> imputada con media = 74238030.10\n",
            "Columna 'subtotal_ventas_alimentos_bebidas': numérica -> imputada con media = 55297622.91\n",
            "Columna 'bebidas': numérica -> imputada con media = 8878731.49\n",
            "Columna 'almacen': numérica -> imputada con media = 20084870.73\n",
            "Columna 'panaderia': numérica -> imputada con media = 2543240.20\n",
            "Columna 'lacteos': numérica -> imputada con media = 8190472.58\n",
            "Columna 'carnes': numérica -> imputada con media = 8347171.32\n",
            "Columna 'verduleria_fruteria': numérica -> imputada con media = 2644027.35\n",
            "Columna 'alimentos_preparados_rotiseria': numérica -> imputada con media = 689586.28\n",
            "Columna 'articulos_limpieza_perfumeria': numérica -> imputada con media = 10331039.92\n",
            "Columna 'indumentaria_calzado_textiles_hogar': numérica -> imputada con media = 1832572.10\n",
            "Columna 'electronicos_articulos_hogar': numérica -> imputada con media = 4647828.64\n",
            "Columna 'otros': numérica -> imputada con media = 5776003.53\n",
            "\n",
            "Nulos por columna (después de imputar):\n",
            "indice_tiempo                          0\n",
            "ventas_precios_corrientes              0\n",
            "ventas_precios_constantes              0\n",
            "ventas_totales_canal_venta             0\n",
            "salon_ventas                           0\n",
            "canales_on_line                        0\n",
            "ventas_totales_medio_pago              0\n",
            "efectivo                               0\n",
            "tarjetas_debito                        0\n",
            "tarjetas_credito                       0\n",
            "otros_medios                           0\n",
            "ventas_totales_grupo_articulos         0\n",
            "subtotal_ventas_alimentos_bebidas      0\n",
            "bebidas                                0\n",
            "almacen                                0\n",
            "panaderia                              0\n",
            "lacteos                                0\n",
            "carnes                                 0\n",
            "verduleria_fruteria                    0\n",
            "alimentos_preparados_rotiseria         0\n",
            "articulos_limpieza_perfumeria          0\n",
            "indumentaria_calzado_textiles_hogar    0\n",
            "electronicos_articulos_hogar           0\n",
            "otros                                  0\n",
            "dtype: int64\n"
          ]
        }
      ]
    },
    {
      "cell_type": "code",
      "source": [
        "# 8) Guardar el archivo final ya limpio\n",
        "df_imp.to_csv(\"Ventas_totales_imputado.csv\", index=False)"
      ],
      "metadata": {
        "id": "EcDUkiInvpEP"
      },
      "execution_count": 4,
      "outputs": []
    }
  ]
}